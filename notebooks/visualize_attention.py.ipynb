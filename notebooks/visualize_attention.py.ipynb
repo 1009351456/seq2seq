{
 "cells": [
  {
   "cell_type": "code",
   "execution_count": 72,
   "metadata": {
    "collapsed": false
   },
   "outputs": [],
   "source": [
    "%matplotlib inline\n",
    "\n",
    "import numpy as np\n",
    "import tensorflow as tf\n",
    "\n",
    "from seq2seq import graph_utils\n",
    "from seq2seq.inference import create_inference_graph, create_predictions_iter\n",
    "from seq2seq.inference import print_translations\n",
    "from seq2seq.data import data_utils\n",
    "from seq2seq.training import utils as training_utils\n",
    "\n",
    "from matplotlib import pyplot as plt\n",
    "\n",
    "tf.logging.set_verbosity(tf.logging.DEBUG)"
   ]
  },
  {
   "cell_type": "code",
   "execution_count": 73,
   "metadata": {
    "collapsed": false
   },
   "outputs": [],
   "source": [
    "MODEL_CLASS = \"AttentionSeq2Seq\"\n",
    "MODEL_DIR = \"/Users/dennybritz/Downloads/toy\"\n",
    "INPUT_FILE = \"/tmp/toydata/train/sources.txt\"\n",
    "VOCAB_SOURCE = \"/tmp/toydata/train/vocab.txt\"\n",
    "VOCAB_TARGET = \"/tmp/toydata/train/vocab.txt\""
   ]
  },
  {
   "cell_type": "code",
   "execution_count": 74,
   "metadata": {
    "collapsed": false
   },
   "outputs": [
    {
     "name": "stdout",
     "output_type": "stream",
     "text": [
      "INFO:tensorflow:Creating vocabulary lookup table of size 23\n",
      "INFO:tensorflow:Creating vocabulary lookup table of size 23\n"
     ]
    }
   ],
   "source": [
    "# Create the model graph\n",
    "tf.reset_default_graph()\n",
    "predictions, _, _ = create_inference_graph(\n",
    "    model_class=\"AttentionSeq2Seq\",\n",
    "    model_dir=MODEL_DIR,\n",
    "    input_file=INPUT_FILE,\n",
    "    vocab_source=VOCAB_SOURCE,\n",
    "    vocab_target=VOCAB_TARGET,\n",
    "    batch_size=32)\n",
    "vocab_tables = graph_utils.get_dict_from_collection(\"vocab_tables\")\n",
    "features = graph_utils.get_dict_from_collection(\"features\")"
   ]
  },
  {
   "cell_type": "code",
   "execution_count": 75,
   "metadata": {
    "collapsed": false
   },
   "outputs": [
    {
     "name": "stdout",
     "output_type": "stream",
     "text": [
      "INFO:tensorflow:Restored model from /Users/dennybritz/Downloads/toy/model.ckpt-1318\n"
     ]
    }
   ],
   "source": [
    "# Initialize the session and restore the checkpoint\n",
    "saver = tf.train.Saver()\n",
    "checkpoint_path = tf.train.latest_checkpoint(MODEL_DIR)\n",
    "\n",
    "sess = tf.InteractiveSession()\n",
    "sess.run(tf.global_variables_initializer())\n",
    "sess.run(tf.local_variables_initializer())\n",
    "sess.run(tf.initialize_all_tables())\n",
    "\n",
    "saver.restore(sess, checkpoint_path)\n",
    "tf.logging.info(\"Restored model from %s\", checkpoint_path)"
   ]
  },
  {
   "cell_type": "code",
   "execution_count": 76,
   "metadata": {
    "collapsed": false
   },
   "outputs": [],
   "source": [
    "# Create an iterator of predictions with some extra information\n",
    "predictions[\"source_tokens\"] = features[\"source_tokens\"]\n",
    "predictions[\"source_len\"] = features[\"source_len\"]\n",
    "predictions[\"target_words\"] = vocab_tables[\"target_id_to_vocab\"].lookup(predictions[\"predictions\"])                        \n",
    "predictions_iter = create_predictions_iter(predictions, sess)"
   ]
  },
  {
   "cell_type": "code",
   "execution_count": 77,
   "metadata": {
    "collapsed": false
   },
   "outputs": [],
   "source": [
    "# Get the next predictions\n",
    "pred_ = next(predictions_iter)"
   ]
  },
  {
   "cell_type": "code",
   "execution_count": 78,
   "metadata": {
    "collapsed": false
   },
   "outputs": [
    {
     "name": "stdout",
     "output_type": "stream",
     "text": [
      "Source: 15 9 7 17 0 14 19 8 5 12 14 15 18 19 0 8 13 15 SEQUENCE_END\n",
      "Target: 15 7 8 0 0 19 18 15 14 12 5 8 19 14 0 17 SEQUENCE_END\n"
     ]
    },
    {
     "data": {
      "image/png": "[encoded data removed]",
      "text/plain": [
       "<matplotlib.figure.Figure at 0x1120266d8>"
      ]
     },
     "metadata": {},
     "output_type": "display_data"
    }
   ],
   "source": [
    "# Find out how long the predicted sequence is\n",
    "target_words = [_.decode() for _ in pred_[\"target_words\"]]\n",
    "if \"SEQUENCE_END\" in target_words:\n",
    "  prediction_len = target_words.index(\"SEQUENCE_END\") + 1\n",
    "else:\n",
    "  prediction_len = None\n",
    "target_words = target_words[:prediction_len]\n",
    "  \n",
    "# Get source words\n",
    "source_len = pred_[\"source_len\"]\n",
    "source_words = [_.decode() for _ in pred_[\"source_tokens\"][:source_len]]\n",
    "\n",
    "print(\"Source: \" + \" \".join(source_words))\n",
    "print(\"Target: \" + \" \".join(target_words))\n",
    "  \n",
    "# Plot\n",
    "plt.figure(figsize=(8,8))\n",
    "plt.imshow(pred_[\"attention_scores\"][:prediction_len,:], interpolation='nearest', cmap=plt.cm.Blues)\n",
    "plt.xticks(np.arange(source_len), source_words, rotation=45)\n",
    "plt.yticks(np.arange(prediction_len), target_words, rotation=-45)\n",
    "None"
   ]
  }
 ],
 "metadata": {
  "kernelspec": {
   "display_name": "Python 3",
   "language": "python",
   "name": "python3"
  },
  "language_info": {
   "codemirror_mode": {
    "name": "ipython",
    "version": 3
   },
   "file_extension": ".py",
   "mimetype": "text/x-python",
   "name": "python",
   "nbconvert_exporter": "python",
   "pygments_lexer": "ipython3",
   "version": "3.5.1"
  }
 },
 "nbformat": 4,
 "nbformat_minor": 2
}
